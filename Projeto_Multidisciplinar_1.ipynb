{
  "cells": [
    {
      "cell_type": "markdown",
      "metadata": {
        "id": "view-in-github",
        "colab_type": "text"
      },
      "source": [
        "<a href=\"https://colab.research.google.com/github/piricosquent/C-digos-em-R-para-an-lise-de-dados/blob/main/Projeto_Multidisciplinar_1.ipynb\" target=\"_parent\"><img src=\"https://colab.research.google.com/assets/colab-badge.svg\" alt=\"Open In Colab\"/></a>"
      ]
    },
    {
      "cell_type": "code",
      "execution_count": 1,
      "id": "39497e08-53b5-443e-be1f-ae378f57b0a4",
      "metadata": {
        "id": "39497e08-53b5-443e-be1f-ae378f57b0a4"
      },
      "outputs": [],
      "source": [
        "n = 2000"
      ]
    },
    {
      "cell_type": "code",
      "execution_count": 2,
      "id": "74d916ec-4e33-4a4b-a466-2879a1f12013",
      "metadata": {
        "id": "74d916ec-4e33-4a4b-a466-2879a1f12013"
      },
      "outputs": [],
      "source": [
        "import numpy as np"
      ]
    },
    {
      "cell_type": "code",
      "execution_count": 3,
      "id": "83845ffb-a0d5-4353-8115-43d62db97b2e",
      "metadata": {
        "colab": {
          "base_uri": "https://localhost:8080/"
        },
        "id": "83845ffb-a0d5-4353-8115-43d62db97b2e",
        "outputId": "ce64732b-01e9-46f7-de38-7cd46d34ce28"
      },
      "outputs": [
        {
          "output_type": "execute_result",
          "data": {
            "text/plain": [
              "array([2.00235936, 1.16495918, 1.95355102, ..., 1.52410061, 2.16739761,\n",
              "       1.95796976])"
            ]
          },
          "metadata": {},
          "execution_count": 3
        }
      ],
      "source": [
        "#Gerando dados de média 1.75 e desvio padrão 0.30, sendo 2000 pessoas em uma distribuição normalizada.\n",
        "alt = np.random.normal(1.75, 0.30, 2000)\n",
        "alt"
      ]
    },
    {
      "cell_type": "code",
      "execution_count": 4,
      "id": "3e94fcd8-1e3e-4b9b-a1a3-a2f3326db834",
      "metadata": {
        "id": "3e94fcd8-1e3e-4b9b-a1a3-a2f3326db834"
      },
      "outputs": [],
      "source": [
        "alt =alt.tolist()"
      ]
    },
    {
      "cell_type": "code",
      "execution_count": 5,
      "id": "f7b154cc-6ce2-4f0d-a4ee-a16396480cc9",
      "metadata": {
        "colab": {
          "base_uri": "https://localhost:8080/",
          "height": 38
        },
        "id": "f7b154cc-6ce2-4f0d-a4ee-a16396480cc9",
        "outputId": "bf0ec409-4986-4a7b-83e3-bad8df1e10ae"
      },
      "outputs": [
        {
          "output_type": "execute_result",
          "data": {
            "text/plain": [
              "aleatorio_i + 50*alt_i"
            ],
            "text/latex": "$\\displaystyle aleatorio_{i} + 50 alt_{i}$"
          },
          "metadata": {},
          "execution_count": 5
        }
      ],
      "source": [
        "from sympy import *\n",
        "x1 = symbols('alt_i')\n",
        "x2 = symbols('aleatorio_i') #altura em i\n",
        "peso_i = x1*50 + x2 #x2 varia no intervalo de -5 a 5 e segue distribuição uniforme\n",
        "peso_i"
      ]
    },
    {
      "cell_type": "code",
      "execution_count": 6,
      "id": "d6199bb6-78fd-4681-b222-d6d57b6d3359",
      "metadata": {
        "id": "d6199bb6-78fd-4681-b222-d6d57b6d3359"
      },
      "outputs": [],
      "source": [
        "from random import *\n",
        "peso = []\n",
        "for i in alt:\n",
        "    a = round(float(uniform(-5, 5)), 2)\n",
        "    b = 50*i\n",
        "    c = a + b\n",
        "    peso.append(c)\n"
      ]
    },
    {
      "cell_type": "code",
      "execution_count": 7,
      "id": "f680f0c2-9873-4c01-9a5f-239aea29f054",
      "metadata": {
        "colab": {
          "base_uri": "https://localhost:8080/"
        },
        "id": "f680f0c2-9873-4c01-9a5f-239aea29f054",
        "outputId": "b7a5fb69-5bb0-4c49-b752-d0add6b49fd7"
      },
      "outputs": [
        {
          "output_type": "execute_result",
          "data": {
            "text/plain": [
              "2000"
            ]
          },
          "metadata": {},
          "execution_count": 7
        }
      ],
      "source": [
        "len(peso)"
      ]
    },
    {
      "cell_type": "code",
      "execution_count": 8,
      "id": "afe56f9e-3074-401c-a08b-648b00e3df23",
      "metadata": {
        "colab": {
          "base_uri": "https://localhost:8080/",
          "height": 47
        },
        "id": "afe56f9e-3074-401c-a08b-648b00e3df23",
        "outputId": "0ecd58cd-279d-4113-b0f8-081249458edc"
      },
      "outputs": [
        {
          "output_type": "execute_result",
          "data": {
            "text/plain": [
              "peso/altura**2"
            ],
            "text/latex": "$\\displaystyle \\frac{peso}{altura^{2}}$"
          },
          "metadata": {},
          "execution_count": 8
        }
      ],
      "source": [
        "peso1, altura1 = symbols(['peso', 'altura'])\n",
        "IMC_formula = peso1 / (altura1**2)\n",
        "IMC_formula"
      ]
    },
    {
      "cell_type": "code",
      "execution_count": 9,
      "id": "8542c363-a757-4bc0-8775-6813a7cc1f03",
      "metadata": {
        "id": "8542c363-a757-4bc0-8775-6813a7cc1f03"
      },
      "outputs": [],
      "source": [
        "IMC = []\n",
        "for i, j in zip(peso, alt):\n",
        "    e = i/(j**2)\n",
        "    e = round(e, 2)\n",
        "    IMC.append(e)"
      ]
    },
    {
      "cell_type": "code",
      "execution_count": 10,
      "id": "d0befdae-c636-4d45-9573-cd553830d5aa",
      "metadata": {
        "colab": {
          "base_uri": "https://localhost:8080/"
        },
        "id": "d0befdae-c636-4d45-9573-cd553830d5aa",
        "outputId": "af88e5a9-c30e-424b-d2bc-c11226e12c4b"
      },
      "outputs": [
        {
          "output_type": "execute_result",
          "data": {
            "text/plain": [
              "2000"
            ]
          },
          "metadata": {},
          "execution_count": 10
        }
      ],
      "source": [
        "len(IMC)"
      ]
    },
    {
      "cell_type": "code",
      "execution_count": 11,
      "id": "9ff6fd3d-0af1-4426-aa09-26b01bb1e944",
      "metadata": {
        "id": "9ff6fd3d-0af1-4426-aa09-26b01bb1e944"
      },
      "outputs": [],
      "source": [
        "SEXO = []\n",
        "for i in range(0, 2000):\n",
        "    value = np.random.uniform(0, 1)\n",
        "    if value > 0.5:\n",
        "        SEXO.append('M')\n",
        "    else:\n",
        "        SEXO.append('H')\n"
      ]
    },
    {
      "cell_type": "code",
      "execution_count": 12,
      "id": "c5476814-c82a-4adf-aba9-e7806422d5f1",
      "metadata": {
        "colab": {
          "base_uri": "https://localhost:8080/"
        },
        "id": "c5476814-c82a-4adf-aba9-e7806422d5f1",
        "outputId": "db0ae345-c4ee-4f94-bf25-9ac7c18649ac"
      },
      "outputs": [
        {
          "output_type": "execute_result",
          "data": {
            "text/plain": [
              "2000"
            ]
          },
          "metadata": {},
          "execution_count": 12
        }
      ],
      "source": [
        "len(SEXO)"
      ]
    },
    {
      "cell_type": "code",
      "execution_count": 13,
      "id": "aab51134-7235-44ec-b8e2-1400b3ead754",
      "metadata": {
        "id": "aab51134-7235-44ec-b8e2-1400b3ead754"
      },
      "outputs": [],
      "source": [
        "CARDIACO = []\n",
        "for i in range(0, 2000):\n",
        "    if IMC[i] > 40:\n",
        "        CARDIACO.append('S')\n",
        "    else:\n",
        "        if IMC[i] > 30 and IMC[i] < 40:\n",
        "            CARDIACO.append('P')\n",
        "        else:\n",
        "            CARDIACO.append('N')"
      ]
    },
    {
      "cell_type": "code",
      "execution_count": 14,
      "id": "2ef6de38-4092-4122-a5cc-0b00957166c1",
      "metadata": {
        "colab": {
          "base_uri": "https://localhost:8080/"
        },
        "id": "2ef6de38-4092-4122-a5cc-0b00957166c1",
        "outputId": "1475592b-c2ed-4cd4-da74-ac6fe9743348"
      },
      "outputs": [
        {
          "output_type": "execute_result",
          "data": {
            "text/plain": [
              "2000"
            ]
          },
          "metadata": {},
          "execution_count": 14
        }
      ],
      "source": [
        "len(CARDIACO)"
      ]
    },
    {
      "cell_type": "code",
      "execution_count": 15,
      "id": "0676a849-c391-4d0f-8d0d-58400f549f05",
      "metadata": {
        "id": "0676a849-c391-4d0f-8d0d-58400f549f05"
      },
      "outputs": [],
      "source": [
        "z = alt, peso, IMC, SEXO, CARDIACO\n"
      ]
    },
    {
      "cell_type": "code",
      "execution_count": 16,
      "id": "a8d1dfa2-acdd-41b9-96e9-56fce890d050",
      "metadata": {
        "colab": {
          "base_uri": "https://localhost:8080/"
        },
        "id": "a8d1dfa2-acdd-41b9-96e9-56fce890d050",
        "outputId": "6ef36403-a7e4-4975-c429-ae3357ede21a"
      },
      "outputs": [
        {
          "output_type": "execute_result",
          "data": {
            "text/plain": [
              "5"
            ]
          },
          "metadata": {},
          "execution_count": 16
        }
      ],
      "source": [
        "len(z)"
      ]
    },
    {
      "cell_type": "code",
      "execution_count": 17,
      "id": "4d743abf-258c-42c3-b670-5998d0cd121d",
      "metadata": {
        "id": "4d743abf-258c-42c3-b670-5998d0cd121d"
      },
      "outputs": [],
      "source": [
        "import pandas as pd\n",
        "df = pd.DataFrame(z, index = ['Altura', 'Peso', 'IMC', 'SEXO', 'CARDIACO']).T"
      ]
    },
    {
      "cell_type": "code",
      "execution_count": 18,
      "id": "29653a50-f163-4b92-8d18-102ef1e9385d",
      "metadata": {
        "colab": {
          "base_uri": "https://localhost:8080/",
          "height": 424
        },
        "id": "29653a50-f163-4b92-8d18-102ef1e9385d",
        "outputId": "4078f3e6-468b-4a6e-ebb1-a0c9fff7ff6a"
      },
      "outputs": [
        {
          "output_type": "execute_result",
          "data": {
            "text/plain": [
              "        Altura        Peso    IMC SEXO CARDIACO\n",
              "0     2.002359  103.127968  25.72    M        N\n",
              "1     1.164959   56.387959  41.55    M        S\n",
              "2     1.953551  100.817551  26.42    M        N\n",
              "3     1.735247   84.802352  28.16    M        N\n",
              "4     1.863013   95.560661  27.53    H        N\n",
              "...        ...         ...    ...  ...      ...\n",
              "1995  2.101737  103.936828  23.53    H        N\n",
              "1996  0.954209   43.700471   48.0    H        S\n",
              "1997  1.524101    73.42503  31.61    M        P\n",
              "1998  2.167398   110.59988  23.54    H        N\n",
              "1999   1.95797   97.578488  25.45    M        N\n",
              "\n",
              "[2000 rows x 5 columns]"
            ],
            "text/html": [
              "\n",
              "  <div id=\"df-6e4c589f-4b7c-4c15-af44-9dfa31b304ca\" class=\"colab-df-container\">\n",
              "    <div>\n",
              "<style scoped>\n",
              "    .dataframe tbody tr th:only-of-type {\n",
              "        vertical-align: middle;\n",
              "    }\n",
              "\n",
              "    .dataframe tbody tr th {\n",
              "        vertical-align: top;\n",
              "    }\n",
              "\n",
              "    .dataframe thead th {\n",
              "        text-align: right;\n",
              "    }\n",
              "</style>\n",
              "<table border=\"1\" class=\"dataframe\">\n",
              "  <thead>\n",
              "    <tr style=\"text-align: right;\">\n",
              "      <th></th>\n",
              "      <th>Altura</th>\n",
              "      <th>Peso</th>\n",
              "      <th>IMC</th>\n",
              "      <th>SEXO</th>\n",
              "      <th>CARDIACO</th>\n",
              "    </tr>\n",
              "  </thead>\n",
              "  <tbody>\n",
              "    <tr>\n",
              "      <th>0</th>\n",
              "      <td>2.002359</td>\n",
              "      <td>103.127968</td>\n",
              "      <td>25.72</td>\n",
              "      <td>M</td>\n",
              "      <td>N</td>\n",
              "    </tr>\n",
              "    <tr>\n",
              "      <th>1</th>\n",
              "      <td>1.164959</td>\n",
              "      <td>56.387959</td>\n",
              "      <td>41.55</td>\n",
              "      <td>M</td>\n",
              "      <td>S</td>\n",
              "    </tr>\n",
              "    <tr>\n",
              "      <th>2</th>\n",
              "      <td>1.953551</td>\n",
              "      <td>100.817551</td>\n",
              "      <td>26.42</td>\n",
              "      <td>M</td>\n",
              "      <td>N</td>\n",
              "    </tr>\n",
              "    <tr>\n",
              "      <th>3</th>\n",
              "      <td>1.735247</td>\n",
              "      <td>84.802352</td>\n",
              "      <td>28.16</td>\n",
              "      <td>M</td>\n",
              "      <td>N</td>\n",
              "    </tr>\n",
              "    <tr>\n",
              "      <th>4</th>\n",
              "      <td>1.863013</td>\n",
              "      <td>95.560661</td>\n",
              "      <td>27.53</td>\n",
              "      <td>H</td>\n",
              "      <td>N</td>\n",
              "    </tr>\n",
              "    <tr>\n",
              "      <th>...</th>\n",
              "      <td>...</td>\n",
              "      <td>...</td>\n",
              "      <td>...</td>\n",
              "      <td>...</td>\n",
              "      <td>...</td>\n",
              "    </tr>\n",
              "    <tr>\n",
              "      <th>1995</th>\n",
              "      <td>2.101737</td>\n",
              "      <td>103.936828</td>\n",
              "      <td>23.53</td>\n",
              "      <td>H</td>\n",
              "      <td>N</td>\n",
              "    </tr>\n",
              "    <tr>\n",
              "      <th>1996</th>\n",
              "      <td>0.954209</td>\n",
              "      <td>43.700471</td>\n",
              "      <td>48.0</td>\n",
              "      <td>H</td>\n",
              "      <td>S</td>\n",
              "    </tr>\n",
              "    <tr>\n",
              "      <th>1997</th>\n",
              "      <td>1.524101</td>\n",
              "      <td>73.42503</td>\n",
              "      <td>31.61</td>\n",
              "      <td>M</td>\n",
              "      <td>P</td>\n",
              "    </tr>\n",
              "    <tr>\n",
              "      <th>1998</th>\n",
              "      <td>2.167398</td>\n",
              "      <td>110.59988</td>\n",
              "      <td>23.54</td>\n",
              "      <td>H</td>\n",
              "      <td>N</td>\n",
              "    </tr>\n",
              "    <tr>\n",
              "      <th>1999</th>\n",
              "      <td>1.95797</td>\n",
              "      <td>97.578488</td>\n",
              "      <td>25.45</td>\n",
              "      <td>M</td>\n",
              "      <td>N</td>\n",
              "    </tr>\n",
              "  </tbody>\n",
              "</table>\n",
              "<p>2000 rows × 5 columns</p>\n",
              "</div>\n",
              "    <div class=\"colab-df-buttons\">\n",
              "\n",
              "  <div class=\"colab-df-container\">\n",
              "    <button class=\"colab-df-convert\" onclick=\"convertToInteractive('df-6e4c589f-4b7c-4c15-af44-9dfa31b304ca')\"\n",
              "            title=\"Convert this dataframe to an interactive table.\"\n",
              "            style=\"display:none;\">\n",
              "\n",
              "  <svg xmlns=\"http://www.w3.org/2000/svg\" height=\"24px\" viewBox=\"0 -960 960 960\">\n",
              "    <path d=\"M120-120v-720h720v720H120Zm60-500h600v-160H180v160Zm220 220h160v-160H400v160Zm0 220h160v-160H400v160ZM180-400h160v-160H180v160Zm440 0h160v-160H620v160ZM180-180h160v-160H180v160Zm440 0h160v-160H620v160Z\"/>\n",
              "  </svg>\n",
              "    </button>\n",
              "\n",
              "  <style>\n",
              "    .colab-df-container {\n",
              "      display:flex;\n",
              "      gap: 12px;\n",
              "    }\n",
              "\n",
              "    .colab-df-convert {\n",
              "      background-color: #E8F0FE;\n",
              "      border: none;\n",
              "      border-radius: 50%;\n",
              "      cursor: pointer;\n",
              "      display: none;\n",
              "      fill: #1967D2;\n",
              "      height: 32px;\n",
              "      padding: 0 0 0 0;\n",
              "      width: 32px;\n",
              "    }\n",
              "\n",
              "    .colab-df-convert:hover {\n",
              "      background-color: #E2EBFA;\n",
              "      box-shadow: 0px 1px 2px rgba(60, 64, 67, 0.3), 0px 1px 3px 1px rgba(60, 64, 67, 0.15);\n",
              "      fill: #174EA6;\n",
              "    }\n",
              "\n",
              "    .colab-df-buttons div {\n",
              "      margin-bottom: 4px;\n",
              "    }\n",
              "\n",
              "    [theme=dark] .colab-df-convert {\n",
              "      background-color: #3B4455;\n",
              "      fill: #D2E3FC;\n",
              "    }\n",
              "\n",
              "    [theme=dark] .colab-df-convert:hover {\n",
              "      background-color: #434B5C;\n",
              "      box-shadow: 0px 1px 3px 1px rgba(0, 0, 0, 0.15);\n",
              "      filter: drop-shadow(0px 1px 2px rgba(0, 0, 0, 0.3));\n",
              "      fill: #FFFFFF;\n",
              "    }\n",
              "  </style>\n",
              "\n",
              "    <script>\n",
              "      const buttonEl =\n",
              "        document.querySelector('#df-6e4c589f-4b7c-4c15-af44-9dfa31b304ca button.colab-df-convert');\n",
              "      buttonEl.style.display =\n",
              "        google.colab.kernel.accessAllowed ? 'block' : 'none';\n",
              "\n",
              "      async function convertToInteractive(key) {\n",
              "        const element = document.querySelector('#df-6e4c589f-4b7c-4c15-af44-9dfa31b304ca');\n",
              "        const dataTable =\n",
              "          await google.colab.kernel.invokeFunction('convertToInteractive',\n",
              "                                                    [key], {});\n",
              "        if (!dataTable) return;\n",
              "\n",
              "        const docLinkHtml = 'Like what you see? Visit the ' +\n",
              "          '<a target=\"_blank\" href=https://colab.research.google.com/notebooks/data_table.ipynb>data table notebook</a>'\n",
              "          + ' to learn more about interactive tables.';\n",
              "        element.innerHTML = '';\n",
              "        dataTable['output_type'] = 'display_data';\n",
              "        await google.colab.output.renderOutput(dataTable, element);\n",
              "        const docLink = document.createElement('div');\n",
              "        docLink.innerHTML = docLinkHtml;\n",
              "        element.appendChild(docLink);\n",
              "      }\n",
              "    </script>\n",
              "  </div>\n",
              "\n",
              "\n",
              "    <div id=\"df-490a5811-626f-45f3-a684-f7fd0f895fdf\">\n",
              "      <button class=\"colab-df-quickchart\" onclick=\"quickchart('df-490a5811-626f-45f3-a684-f7fd0f895fdf')\"\n",
              "                title=\"Suggest charts\"\n",
              "                style=\"display:none;\">\n",
              "\n",
              "<svg xmlns=\"http://www.w3.org/2000/svg\" height=\"24px\"viewBox=\"0 0 24 24\"\n",
              "     width=\"24px\">\n",
              "    <g>\n",
              "        <path d=\"M19 3H5c-1.1 0-2 .9-2 2v14c0 1.1.9 2 2 2h14c1.1 0 2-.9 2-2V5c0-1.1-.9-2-2-2zM9 17H7v-7h2v7zm4 0h-2V7h2v10zm4 0h-2v-4h2v4z\"/>\n",
              "    </g>\n",
              "</svg>\n",
              "      </button>\n",
              "\n",
              "<style>\n",
              "  .colab-df-quickchart {\n",
              "      --bg-color: #E8F0FE;\n",
              "      --fill-color: #1967D2;\n",
              "      --hover-bg-color: #E2EBFA;\n",
              "      --hover-fill-color: #174EA6;\n",
              "      --disabled-fill-color: #AAA;\n",
              "      --disabled-bg-color: #DDD;\n",
              "  }\n",
              "\n",
              "  [theme=dark] .colab-df-quickchart {\n",
              "      --bg-color: #3B4455;\n",
              "      --fill-color: #D2E3FC;\n",
              "      --hover-bg-color: #434B5C;\n",
              "      --hover-fill-color: #FFFFFF;\n",
              "      --disabled-bg-color: #3B4455;\n",
              "      --disabled-fill-color: #666;\n",
              "  }\n",
              "\n",
              "  .colab-df-quickchart {\n",
              "    background-color: var(--bg-color);\n",
              "    border: none;\n",
              "    border-radius: 50%;\n",
              "    cursor: pointer;\n",
              "    display: none;\n",
              "    fill: var(--fill-color);\n",
              "    height: 32px;\n",
              "    padding: 0;\n",
              "    width: 32px;\n",
              "  }\n",
              "\n",
              "  .colab-df-quickchart:hover {\n",
              "    background-color: var(--hover-bg-color);\n",
              "    box-shadow: 0 1px 2px rgba(60, 64, 67, 0.3), 0 1px 3px 1px rgba(60, 64, 67, 0.15);\n",
              "    fill: var(--button-hover-fill-color);\n",
              "  }\n",
              "\n",
              "  .colab-df-quickchart-complete:disabled,\n",
              "  .colab-df-quickchart-complete:disabled:hover {\n",
              "    background-color: var(--disabled-bg-color);\n",
              "    fill: var(--disabled-fill-color);\n",
              "    box-shadow: none;\n",
              "  }\n",
              "\n",
              "  .colab-df-spinner {\n",
              "    border: 2px solid var(--fill-color);\n",
              "    border-color: transparent;\n",
              "    border-bottom-color: var(--fill-color);\n",
              "    animation:\n",
              "      spin 1s steps(1) infinite;\n",
              "  }\n",
              "\n",
              "  @keyframes spin {\n",
              "    0% {\n",
              "      border-color: transparent;\n",
              "      border-bottom-color: var(--fill-color);\n",
              "      border-left-color: var(--fill-color);\n",
              "    }\n",
              "    20% {\n",
              "      border-color: transparent;\n",
              "      border-left-color: var(--fill-color);\n",
              "      border-top-color: var(--fill-color);\n",
              "    }\n",
              "    30% {\n",
              "      border-color: transparent;\n",
              "      border-left-color: var(--fill-color);\n",
              "      border-top-color: var(--fill-color);\n",
              "      border-right-color: var(--fill-color);\n",
              "    }\n",
              "    40% {\n",
              "      border-color: transparent;\n",
              "      border-right-color: var(--fill-color);\n",
              "      border-top-color: var(--fill-color);\n",
              "    }\n",
              "    60% {\n",
              "      border-color: transparent;\n",
              "      border-right-color: var(--fill-color);\n",
              "    }\n",
              "    80% {\n",
              "      border-color: transparent;\n",
              "      border-right-color: var(--fill-color);\n",
              "      border-bottom-color: var(--fill-color);\n",
              "    }\n",
              "    90% {\n",
              "      border-color: transparent;\n",
              "      border-bottom-color: var(--fill-color);\n",
              "    }\n",
              "  }\n",
              "</style>\n",
              "\n",
              "      <script>\n",
              "        async function quickchart(key) {\n",
              "          const quickchartButtonEl =\n",
              "            document.querySelector('#' + key + ' button');\n",
              "          quickchartButtonEl.disabled = true;  // To prevent multiple clicks.\n",
              "          quickchartButtonEl.classList.add('colab-df-spinner');\n",
              "          try {\n",
              "            const charts = await google.colab.kernel.invokeFunction(\n",
              "                'suggestCharts', [key], {});\n",
              "          } catch (error) {\n",
              "            console.error('Error during call to suggestCharts:', error);\n",
              "          }\n",
              "          quickchartButtonEl.classList.remove('colab-df-spinner');\n",
              "          quickchartButtonEl.classList.add('colab-df-quickchart-complete');\n",
              "        }\n",
              "        (() => {\n",
              "          let quickchartButtonEl =\n",
              "            document.querySelector('#df-490a5811-626f-45f3-a684-f7fd0f895fdf button');\n",
              "          quickchartButtonEl.style.display =\n",
              "            google.colab.kernel.accessAllowed ? 'block' : 'none';\n",
              "        })();\n",
              "      </script>\n",
              "    </div>\n",
              "\n",
              "  <div id=\"id_74958742-1e27-4505-b4d7-b8a673d2e1ec\">\n",
              "    <style>\n",
              "      .colab-df-generate {\n",
              "        background-color: #E8F0FE;\n",
              "        border: none;\n",
              "        border-radius: 50%;\n",
              "        cursor: pointer;\n",
              "        display: none;\n",
              "        fill: #1967D2;\n",
              "        height: 32px;\n",
              "        padding: 0 0 0 0;\n",
              "        width: 32px;\n",
              "      }\n",
              "\n",
              "      .colab-df-generate:hover {\n",
              "        background-color: #E2EBFA;\n",
              "        box-shadow: 0px 1px 2px rgba(60, 64, 67, 0.3), 0px 1px 3px 1px rgba(60, 64, 67, 0.15);\n",
              "        fill: #174EA6;\n",
              "      }\n",
              "\n",
              "      [theme=dark] .colab-df-generate {\n",
              "        background-color: #3B4455;\n",
              "        fill: #D2E3FC;\n",
              "      }\n",
              "\n",
              "      [theme=dark] .colab-df-generate:hover {\n",
              "        background-color: #434B5C;\n",
              "        box-shadow: 0px 1px 3px 1px rgba(0, 0, 0, 0.15);\n",
              "        filter: drop-shadow(0px 1px 2px rgba(0, 0, 0, 0.3));\n",
              "        fill: #FFFFFF;\n",
              "      }\n",
              "    </style>\n",
              "    <button class=\"colab-df-generate\" onclick=\"generateWithVariable('df')\"\n",
              "            title=\"Generate code using this dataframe.\"\n",
              "            style=\"display:none;\">\n",
              "\n",
              "  <svg xmlns=\"http://www.w3.org/2000/svg\" height=\"24px\"viewBox=\"0 0 24 24\"\n",
              "       width=\"24px\">\n",
              "    <path d=\"M7,19H8.4L18.45,9,17,7.55,7,17.6ZM5,21V16.75L18.45,3.32a2,2,0,0,1,2.83,0l1.4,1.43a1.91,1.91,0,0,1,.58,1.4,1.91,1.91,0,0,1-.58,1.4L9.25,21ZM18.45,9,17,7.55Zm-12,3A5.31,5.31,0,0,0,4.9,8.1,5.31,5.31,0,0,0,1,6.5,5.31,5.31,0,0,0,4.9,4.9,5.31,5.31,0,0,0,6.5,1,5.31,5.31,0,0,0,8.1,4.9,5.31,5.31,0,0,0,12,6.5,5.46,5.46,0,0,0,6.5,12Z\"/>\n",
              "  </svg>\n",
              "    </button>\n",
              "    <script>\n",
              "      (() => {\n",
              "      const buttonEl =\n",
              "        document.querySelector('#id_74958742-1e27-4505-b4d7-b8a673d2e1ec button.colab-df-generate');\n",
              "      buttonEl.style.display =\n",
              "        google.colab.kernel.accessAllowed ? 'block' : 'none';\n",
              "\n",
              "      buttonEl.onclick = () => {\n",
              "        google.colab.notebook.generateWithVariable('df');\n",
              "      }\n",
              "      })();\n",
              "    </script>\n",
              "  </div>\n",
              "\n",
              "    </div>\n",
              "  </div>\n"
            ],
            "application/vnd.google.colaboratory.intrinsic+json": {
              "type": "dataframe",
              "variable_name": "df",
              "summary": "{\n  \"name\": \"df\",\n  \"rows\": 2000,\n  \"fields\": [\n    {\n      \"column\": \"Altura\",\n      \"properties\": {\n        \"dtype\": \"date\",\n        \"min\": 0.882828715931082,\n        \"max\": 2.7177402864306983,\n        \"num_unique_values\": 2000,\n        \"samples\": [\n          2.2747269694205134,\n          1.989987870591578,\n          2.1918241723509437\n        ],\n        \"semantic_type\": \"\",\n        \"description\": \"\"\n      }\n    },\n    {\n      \"column\": \"Peso\",\n      \"properties\": {\n        \"dtype\": \"date\",\n        \"min\": 43.700471121924735,\n        \"max\": 133.5410804440856,\n        \"num_unique_values\": 2000,\n        \"samples\": [\n          111.00634847102567,\n          98.9993935295789,\n          105.06120861754718\n        ],\n        \"semantic_type\": \"\",\n        \"description\": \"\"\n      }\n    },\n    {\n      \"column\": \"IMC\",\n      \"properties\": {\n        \"dtype\": \"date\",\n        \"min\": 17.93,\n        \"max\": 62.65,\n        \"num_unique_values\": 1219,\n        \"samples\": [\n          25.03,\n          40.3,\n          34.47\n        ],\n        \"semantic_type\": \"\",\n        \"description\": \"\"\n      }\n    },\n    {\n      \"column\": \"SEXO\",\n      \"properties\": {\n        \"dtype\": \"category\",\n        \"num_unique_values\": 2,\n        \"samples\": [\n          \"H\",\n          \"M\"\n        ],\n        \"semantic_type\": \"\",\n        \"description\": \"\"\n      }\n    },\n    {\n      \"column\": \"CARDIACO\",\n      \"properties\": {\n        \"dtype\": \"category\",\n        \"num_unique_values\": 3,\n        \"samples\": [\n          \"N\",\n          \"S\"\n        ],\n        \"semantic_type\": \"\",\n        \"description\": \"\"\n      }\n    }\n  ]\n}"
            }
          },
          "metadata": {},
          "execution_count": 18
        }
      ],
      "source": [
        "df"
      ]
    },
    {
      "cell_type": "code",
      "execution_count": 19,
      "id": "a3080774-096a-47b6-89d6-c048272f815c",
      "metadata": {
        "id": "a3080774-096a-47b6-89d6-c048272f815c"
      },
      "outputs": [],
      "source": [
        "df.to_csv('df.csv')"
      ]
    },
    {
      "cell_type": "code",
      "execution_count": 20,
      "id": "1bdd3b05-6449-4cdb-8cd1-72481dc82dc5",
      "metadata": {
        "id": "1bdd3b05-6449-4cdb-8cd1-72481dc82dc5"
      },
      "outputs": [],
      "source": [
        "#Calculando a media de uma coluna na tabela\n",
        "def media(tabela):\n",
        "    soma = sum(tabela)\n",
        "    media = soma/len(tabela)\n",
        "    media = round(media, 2)\n",
        "    print(media)"
      ]
    },
    {
      "cell_type": "code",
      "execution_count": 21,
      "id": "642d6879-2245-4689-96d3-94a2cd663971",
      "metadata": {
        "colab": {
          "base_uri": "https://localhost:8080/"
        },
        "id": "642d6879-2245-4689-96d3-94a2cd663971",
        "outputId": "e947853c-033e-4cc1-ead3-0316d0ae607d"
      },
      "outputs": [
        {
          "output_type": "stream",
          "name": "stdout",
          "text": [
            "29.37\n"
          ]
        }
      ],
      "source": [
        "media(df.IMC)"
      ]
    },
    {
      "cell_type": "code",
      "execution_count": 22,
      "id": "d6cf0b28-1a65-45b2-b4d5-e79b33e73569",
      "metadata": {
        "colab": {
          "base_uri": "https://localhost:8080/"
        },
        "id": "d6cf0b28-1a65-45b2-b4d5-e79b33e73569",
        "outputId": "ec16850e-224a-49b1-d4d5-d3d345b573af"
      },
      "outputs": [
        {
          "output_type": "stream",
          "name": "stdout",
          "text": [
            "1.76\n"
          ]
        }
      ],
      "source": [
        "media(df.Altura)"
      ]
    },
    {
      "cell_type": "code",
      "execution_count": 23,
      "id": "b40dd0a5-7e8e-4846-8fb0-0e442a18142a",
      "metadata": {
        "colab": {
          "base_uri": "https://localhost:8080/"
        },
        "id": "b40dd0a5-7e8e-4846-8fb0-0e442a18142a",
        "outputId": "6e0753f2-d607-48a6-f784-5ba20a3139f1"
      },
      "outputs": [
        {
          "output_type": "stream",
          "name": "stdout",
          "text": [
            "87.83\n"
          ]
        }
      ],
      "source": [
        "media(df.Peso)"
      ]
    },
    {
      "cell_type": "code",
      "execution_count": 24,
      "id": "3e9b5baf-03c5-48fb-a84c-92396c53aae4",
      "metadata": {
        "colab": {
          "base_uri": "https://localhost:8080/"
        },
        "id": "3e9b5baf-03c5-48fb-a84c-92396c53aae4",
        "outputId": "ebd05162-ab41-498a-dd49-faaafed886e1"
      },
      "outputs": [
        {
          "output_type": "stream",
          "name": "stdout",
          "text": [
            "O percentual de homens é 49.75%\n",
            "O percentual de mulheres é 50.24999999999999%\n"
          ]
        }
      ],
      "source": [
        "#frequencia dos sexos\n",
        "freq_H = 0\n",
        "freq_M = 0\n",
        "for i in df.SEXO:\n",
        "    if i == 'H':\n",
        "        freq_H += 1\n",
        "    else:\n",
        "        freq_M += 1\n",
        "print(f'O percentual de homens é {freq_H/len(df.SEXO)*100}%')\n",
        "print(f'O percentual de mulheres é {freq_M/len(df.SEXO)*100}%')\n",
        "\n",
        ""
      ]
    },
    {
      "cell_type": "code",
      "execution_count": 25,
      "id": "57310230-a038-4243-b257-34e07c4d58d0",
      "metadata": {
        "colab": {
          "base_uri": "https://localhost:8080/"
        },
        "id": "57310230-a038-4243-b257-34e07c4d58d0",
        "outputId": "beb1ce75-ac14-435f-9484-b55c508c4ba3"
      },
      "outputs": [
        {
          "output_type": "stream",
          "name": "stdout",
          "text": [
            "O percentual de pessoas sem risco de sofrer ataque cardíaco é 61.4%\n",
            "O percentual de pessoas com risco de sofrer ataque cardíaco é 33.900000000000006%\n",
            "O percentual de pessoas com ALTO risco de sofrer ataque cardíaco é 4.7%\n"
          ]
        }
      ],
      "source": [
        "#percentual de cardíacos\n",
        "freq_s = 0\n",
        "freq_n = 0\n",
        "freq_p = 0\n",
        "for i in df.CARDIACO:\n",
        "    if i == 'P':\n",
        "        freq_p += 1\n",
        "    elif i == 'S':\n",
        "        freq_s += 1\n",
        "    else:\n",
        "        freq_n += 1\n",
        "print(f'O percentual de pessoas sem risco de sofrer ataque cardíaco é {freq_n/len(df.CARDIACO)*100}%')\n",
        "print(f'O percentual de pessoas com risco de sofrer ataque cardíaco é {freq_p/len(df.CARDIACO)*100}%')\n",
        "print(f'O percentual de pessoas com ALTO risco de sofrer ataque cardíaco é {freq_s/len(df.CARDIACO)*100}%')"
      ]
    },
    {
      "cell_type": "code",
      "execution_count": 25,
      "id": "b60478be-2ab8-41bd-8ff6-8178aed23aa6",
      "metadata": {
        "id": "b60478be-2ab8-41bd-8ff6-8178aed23aa6"
      },
      "outputs": [],
      "source": []
    }
  ],
  "metadata": {
    "kernelspec": {
      "display_name": "Python [conda env:base] *",
      "language": "python",
      "name": "conda-base-py"
    },
    "language_info": {
      "codemirror_mode": {
        "name": "ipython",
        "version": 3
      },
      "file_extension": ".py",
      "mimetype": "text/x-python",
      "name": "python",
      "nbconvert_exporter": "python",
      "pygments_lexer": "ipython3",
      "version": "3.12.7"
    },
    "colab": {
      "provenance": [],
      "include_colab_link": true
    }
  },
  "nbformat": 4,
  "nbformat_minor": 5
}